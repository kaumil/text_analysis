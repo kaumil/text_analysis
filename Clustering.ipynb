{
 "cells": [
  {
   "cell_type": "code",
   "execution_count": 5,
   "metadata": {},
   "outputs": [],
   "source": [
    "from sklearn.feature_extraction.text import CountVectorizer\n",
    "from sklearn.datasets import fetch_20newsgroups\n",
    "from nltk.corpus import names\n",
    "from nltk.stem import WordNetLemmatizer\n",
    "from sklearn.decomposition import NMF"
   ]
  },
  {
   "cell_type": "code",
   "execution_count": 2,
   "metadata": {},
   "outputs": [],
   "source": [
    "def letters_only(astr):\n",
    "    for c in astr:\n",
    "        if not c.isalpha():\n",
    "            return False\n",
    "    return True"
   ]
  },
  {
   "cell_type": "code",
   "execution_count": 3,
   "metadata": {},
   "outputs": [],
   "source": [
    "cv = CountVectorizer(stop_words=\"english\",max_features=500)\n",
    "groups = fetch_20newsgroups()\n",
    "cleaned = []\n",
    "all_names = set(names.words())\n",
    "lemmatizer = WordNetLemmatizer()"
   ]
  },
  {
   "cell_type": "code",
   "execution_count": 4,
   "metadata": {},
   "outputs": [],
   "source": [
    "for post in groups.data:\n",
    "    cleaned.append(' '.join([\n",
    "        lemmatizer.lemmatize(word.lower())\n",
    "        for word in post.split()\n",
    "        if letters_only(word)\n",
    "        and word not in all_names]))"
   ]
  },
  {
   "cell_type": "code",
   "execution_count": 6,
   "metadata": {},
   "outputs": [],
   "source": [
    "transformed = cv.fit_transform(cleaned)\n",
    "nmf = NMF(n_components=100,random_state=42).fit(transformed)"
   ]
  },
  {
   "cell_type": "code",
   "execution_count": 9,
   "metadata": {},
   "outputs": [
    {
     "name": "stdout",
     "output_type": "stream",
     "text": [
      "0 wa went came told started said took saw\n",
      "1 db bit data place stuff add time line\n",
      "2 version color image free available better current display\n",
      "3 file information section write change start source ftp\n",
      "4 disk drive controller hard support card board head\n",
      "5 entry program rule source number info email build\n",
      "6 new york sale service early change result study\n",
      "7 image user package display color include line support\n",
      "8 window server manager application screen create user set\n",
      "9 gun united control house american second national issue\n",
      "10 hockey team league game division player play san\n",
      "11 turkish government sent war study came took american\n",
      "12 ha able taken called given past real look\n",
      "13 space nasa service technology national international small communication\n",
      "14 key message security public algorithm standard encryption product\n",
      "15 output line open write read return build program\n",
      "16 people government country doing live killed tell place\n",
      "17 widget application value set type return display function\n",
      "18 child case rate le report area group research\n",
      "19 jew jewish world war history help arab research\n",
      "20 armenian russian muslim turkish world city road today\n",
      "21 president said group tax working press package job\n",
      "22 ground box usually run power current code house\n",
      "23 russian president government american support money food private\n",
      "24 ibm color week memory monitor standard hardware machine\n",
      "25 anonymous posting service server user group message post\n",
      "26 la win san went year near radio talk\n",
      "27 work job young school lot private create business\n",
      "28 encryption technology government access device policy security chip\n",
      "29 scsi tape driver drive work memory hard bus\n",
      "30 war military world attack way united russian force\n",
      "31 god bible shall man life hell love end\n",
      "32 atheist religious religion belief god sort feel idea\n",
      "33 data available user research package information set model\n",
      "34 center research medical institute national north study test\n",
      "35 think lot really try trying agree talk kind\n",
      "36 water city division public similar north san today\n",
      "37 section military shall weapon person division application mean\n",
      "38 good cover better player really great probably pretty\n",
      "39 drive head single scsi mode set model type\n",
      "40 israeli arab attack policy true apr fact stop\n",
      "41 use note usually standard similar different provide comment\n",
      "42 know tell way sure understand let far talking\n",
      "43 car speed driver change better high buy different\n",
      "44 internet email address anonymous information user network mail\n",
      "45 like look really sound better long little pretty\n",
      "46 going way mean kind sure got working look\n",
      "47 law act federal specific issue moral order clear\n",
      "48 dod bike computer member started mean live rule\n",
      "49 greek killed western government muslim act turkish talk\n",
      "50 computer information internet public network communication service issue\n",
      "51 day said little christian tell old end event\n",
      "52 book read reference copy second history speed original\n",
      "53 argument form true evidence event general truth known\n",
      "54 make sure difference sense little le way end\n",
      "55 doe mean anybody actually ask difference reading statement\n",
      "56 time better long lot having able actually different\n",
      "57 gun rate crime city death study control difference\n",
      "58 right second government free shall security political mean\n",
      "59 using function work probably note code order version\n",
      "60 wa thought later seen left order took fact\n",
      "61 used way product type single standard main design\n",
      "62 problem work having apple help running long cause\n",
      "63 available version server includes widget support source sun\n",
      "64 need help tape hardware needed phone kind bike\n",
      "65 san police information said group league political government\n",
      "66 number serial large men following million le report\n",
      "67 year ago old best hit sale long lot\n",
      "68 want really let help better life reason sure\n",
      "69 point way line different better best exactly algorithm\n",
      "70 program run change display technology lot application try\n",
      "71 thing got really sure saw trying seen having\n",
      "72 state public united political national government federal member\n",
      "73 graphic send mail message server package various place\n",
      "74 say said read clear saying agree better given\n",
      "75 just maybe start really big thought probably little\n",
      "76 come tell coming turn trying great away start\n",
      "77 word mean bible act way death belief simply\n",
      "78 game got shot play goal lead hit took\n",
      "79 believe belief christian evidence truth claim reason hell\n",
      "80 ftp available anonymous general nasa information version written\n",
      "81 drug information study group war reason usa help\n",
      "82 question answer ask asked reason claim true read\n",
      "83 did let death fact wanted money body place\n",
      "84 bit let change mode memory screen display video\n",
      "85 power period second san special le play goal\n",
      "86 chip clipper serial algorithm phone communication key encryption\n",
      "87 science computer model study evidence method institute value\n",
      "88 university general thanks department engineering texas computing usa\n",
      "89 team player win run better play best look\n",
      "90 card driver video support mouse mode board work\n",
      "91 list post group email discussion news sent mail\n",
      "92 health medical public national care study service user\n",
      "93 software pc level computer graphic product hardware box\n",
      "94 church christian member group true command view different\n",
      "95 offer information manager course open look faq reference\n",
      "96 unit disk size serial total national got return\n",
      "97 article usa read world post opinion discussion sure\n",
      "98 human life person moral kill claim reason world\n",
      "99 woman men way muslim religion man great world\n"
     ]
    }
   ],
   "source": [
    "for topc_idx,topic in enumerate(nmf.components_):\n",
    "    labels = '{}'.format(topc_idx)\n",
    "    print(labels, \" \".join([cv.get_feature_names()[i]\n",
    "                           for i in topic.argsort()[:-9:-1]]))"
   ]
  },
  {
   "cell_type": "code",
   "execution_count": null,
   "metadata": {},
   "outputs": [],
   "source": []
  }
 ],
 "metadata": {
  "kernelspec": {
   "display_name": "Python 3",
   "language": "python",
   "name": "python3"
  },
  "language_info": {
   "codemirror_mode": {
    "name": "ipython",
    "version": 3
   },
   "file_extension": ".py",
   "mimetype": "text/x-python",
   "name": "python",
   "nbconvert_exporter": "python",
   "pygments_lexer": "ipython3",
   "version": "3.7.3"
  }
 },
 "nbformat": 4,
 "nbformat_minor": 2
}
